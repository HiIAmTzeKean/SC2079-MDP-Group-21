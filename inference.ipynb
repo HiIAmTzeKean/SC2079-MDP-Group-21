{
 "cells": [
  {
   "cell_type": "code",
   "execution_count": 48,
   "id": "0e9825bb",
   "metadata": {},
   "outputs": [
    {
     "name": "stdout",
     "output_type": "stream",
     "text": [
      "\n",
      "image 1/1 C:\\Users\\jianh\\Desktop\\SC2079 MDP\\augmented_110207_IMG_2368.jpg: 640x640 1 left, 284.5ms\n",
      "Speed: 7.6ms preprocess, 284.5ms inference, 0.0ms postprocess per image at shape (1, 3, 640, 640)\n",
      "Results saved to \u001b[1mC:\\Users\\jianh\\runs\\detect\\predict4\u001b[0m\n",
      "Predicted Class: left\n"
     ]
    }
   ],
   "source": [
    "from ultralytics import YOLO\n",
    "from pathlib import Path\n",
    "from datetime import datetime\n",
    "import torch\n",
    "import time\n",
    "\n",
    "# Path to your YOLO model\n",
    "MODEL_CONFIG = {\"conf\": 0.8, \"path\": Path(\"best.pt\")}  # Assuming your weights are in the same directory\n",
    "\n",
    "device = 'cuda' if torch.cuda.is_available() else 'cpu'\n",
    "\n",
    "def find_largest_bbox_label(bboxes):\n",
    "    largest_bbox_area = 0.0\n",
    "    largest_bbox_label = None\n",
    "\n",
    "    for bbox in bboxes:\n",
    "        label = bbox['label']\n",
    "        _, _, width, height = bbox['xywh']\n",
    "        bbox_area = width * height\n",
    "        if bbox_area > largest_bbox_area:\n",
    "            largest_bbox_area = bbox_area\n",
    "            largest_bbox_label = label\n",
    "\n",
    "    return largest_bbox_label, largest_bbox_area\n",
    "\n",
    "\n",
    "def image_inference(image_path, obs_id, image_counter):\n",
    "    formatted_time = datetime.fromtimestamp(time.time()).strftime('%d-%m_%H-%M-%S.%f')[:-3]\n",
    "    img_name = f\"img_{formatted_time}\"\n",
    "\n",
    "    model = YOLO(MODEL_CONFIG[\"path\"])\n",
    "    model.to(device)\n",
    "\n",
    "    results = model.predict(\n",
    "        source=image_path,\n",
    "        save=True,\n",
    "        conf=MODEL_CONFIG[\"conf\"],\n",
    "        imgsz=640,\n",
    "        device=device\n",
    "    )\n",
    "\n",
    "    bboxes = []\n",
    "    for r in results:\n",
    "        for c in r:\n",
    "            # Get the predicted class (label)\n",
    "            label = c.names[c.boxes.cls.tolist().pop()]\n",
    "            print(f\"Predicted Class: {label}\")  # Printing the predicted class\n",
    "\n",
    "            # Store bbox details\n",
    "            bboxes.append({\"label\": label, \"xywh\": c.boxes.xywh.tolist().pop()})\n",
    "\n",
    "    largest_bbox_label, largest_bbox_area = find_largest_bbox_label(bboxes)\n",
    "\n",
    "    if largest_bbox_label is None:\n",
    "        print(\"No objects detected.\")\n",
    "        return None\n",
    "\n",
    "    name_of_image = f\"task_obs_id_{obs_id}_{image_counter}.jpg\"\n",
    "\n",
    "    return {\n",
    "        \"type\": \"IMAGE_RESULTS\",\n",
    "        \"data\": {\n",
    "            \"obs_id\": obs_id,\n",
    "            \"img_id\": largest_bbox_label,\n",
    "            \"bbox_area\": largest_bbox_area\n",
    "        },\n",
    "        \"image_path\": Path(\"captured_images\") / img_name / name_of_image\n",
    "    }\n",
    "\n",
    "\n",
    "# Example Test with IMG_0762.jpg\n",
    "image = \"augmented_110207_IMG_2368.jpg\"\n",
    "result = image_inference(image, \"01\", 1)\n"
   ]
  }
 ],
 "metadata": {
  "kernelspec": {
   "display_name": "Python 3 (ipykernel)",
   "language": "python",
   "name": "python3"
  },
  "language_info": {
   "codemirror_mode": {
    "name": "ipython",
    "version": 3
   },
   "file_extension": ".py",
   "mimetype": "text/x-python",
   "name": "python",
   "nbconvert_exporter": "python",
   "pygments_lexer": "ipython3",
   "version": "3.9.12"
  }
 },
 "nbformat": 4,
 "nbformat_minor": 5
}
